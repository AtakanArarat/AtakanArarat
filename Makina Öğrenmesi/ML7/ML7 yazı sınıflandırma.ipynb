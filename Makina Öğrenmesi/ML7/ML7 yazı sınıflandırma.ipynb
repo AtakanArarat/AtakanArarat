{
 "cells": [
  {
   "cell_type": "code",
   "execution_count": 2,
   "metadata": {},
   "outputs": [],
   "source": [
    "import numpy as np\n",
    "import pandas as pd\n",
    "import matplotlib.pyplot as plt\n",
    "\n",
    "import tensorflow as tf\n",
    "import tensorflow_hub as hub\n",
    "                                                             #YAZI SINIFLANDIRMA ÇALIŞMASI"
   ]
  },
  {
   "cell_type": "code",
   "execution_count": 3,
   "metadata": {},
   "outputs": [],
   "source": [
    "df = pd.read_csv(\"wine-reviews.csv\", usecols = ['country', 'description', 'points', 'price', 'variety', 'winery'])"
   ]
  },
  {
   "cell_type": "code",
   "execution_count": 4,
   "metadata": {},
   "outputs": [
    {
     "data": {
      "text/html": [
       "<div>\n",
       "<style scoped>\n",
       "    .dataframe tbody tr th:only-of-type {\n",
       "        vertical-align: middle;\n",
       "    }\n",
       "\n",
       "    .dataframe tbody tr th {\n",
       "        vertical-align: top;\n",
       "    }\n",
       "\n",
       "    .dataframe thead th {\n",
       "        text-align: right;\n",
       "    }\n",
       "</style>\n",
       "<table border=\"1\" class=\"dataframe\">\n",
       "  <thead>\n",
       "    <tr style=\"text-align: right;\">\n",
       "      <th></th>\n",
       "      <th>country</th>\n",
       "      <th>description</th>\n",
       "      <th>points</th>\n",
       "      <th>price</th>\n",
       "      <th>variety</th>\n",
       "      <th>winery</th>\n",
       "    </tr>\n",
       "  </thead>\n",
       "  <tbody>\n",
       "    <tr>\n",
       "      <th>0</th>\n",
       "      <td>Italy</td>\n",
       "      <td>Aromas include tropical fruit, broom, brimston...</td>\n",
       "      <td>87</td>\n",
       "      <td>NaN</td>\n",
       "      <td>White Blend</td>\n",
       "      <td>Nicosia</td>\n",
       "    </tr>\n",
       "    <tr>\n",
       "      <th>1</th>\n",
       "      <td>Portugal</td>\n",
       "      <td>This is ripe and fruity, a wine that is smooth...</td>\n",
       "      <td>87</td>\n",
       "      <td>15.0</td>\n",
       "      <td>Portuguese Red</td>\n",
       "      <td>Quinta dos Avidagos</td>\n",
       "    </tr>\n",
       "    <tr>\n",
       "      <th>2</th>\n",
       "      <td>US</td>\n",
       "      <td>Tart and snappy, the flavors of lime flesh and...</td>\n",
       "      <td>87</td>\n",
       "      <td>14.0</td>\n",
       "      <td>Pinot Gris</td>\n",
       "      <td>Rainstorm</td>\n",
       "    </tr>\n",
       "    <tr>\n",
       "      <th>3</th>\n",
       "      <td>US</td>\n",
       "      <td>Pineapple rind, lemon pith and orange blossom ...</td>\n",
       "      <td>87</td>\n",
       "      <td>13.0</td>\n",
       "      <td>Riesling</td>\n",
       "      <td>St. Julian</td>\n",
       "    </tr>\n",
       "    <tr>\n",
       "      <th>4</th>\n",
       "      <td>US</td>\n",
       "      <td>Much like the regular bottling from 2012, this...</td>\n",
       "      <td>87</td>\n",
       "      <td>65.0</td>\n",
       "      <td>Pinot Noir</td>\n",
       "      <td>Sweet Cheeks</td>\n",
       "    </tr>\n",
       "  </tbody>\n",
       "</table>\n",
       "</div>"
      ],
      "text/plain": [
       "    country                                        description  points  price   \n",
       "0     Italy  Aromas include tropical fruit, broom, brimston...      87    NaN  \\\n",
       "1  Portugal  This is ripe and fruity, a wine that is smooth...      87   15.0   \n",
       "2        US  Tart and snappy, the flavors of lime flesh and...      87   14.0   \n",
       "3        US  Pineapple rind, lemon pith and orange blossom ...      87   13.0   \n",
       "4        US  Much like the regular bottling from 2012, this...      87   65.0   \n",
       "\n",
       "          variety               winery  \n",
       "0     White Blend              Nicosia  \n",
       "1  Portuguese Red  Quinta dos Avidagos  \n",
       "2      Pinot Gris            Rainstorm  \n",
       "3        Riesling           St. Julian  \n",
       "4      Pinot Noir         Sweet Cheeks  "
      ]
     },
     "execution_count": 4,
     "metadata": {},
     "output_type": "execute_result"
    }
   ],
   "source": [
    "df.head()"
   ]
  },
  {
   "cell_type": "code",
   "execution_count": 5,
   "metadata": {},
   "outputs": [],
   "source": [
    "df = df.dropna(subset=[\"description\",\"points\"])"
   ]
  },
  {
   "cell_type": "code",
   "execution_count": 6,
   "metadata": {},
   "outputs": [
    {
     "data": {
      "text/html": [
       "<div>\n",
       "<style scoped>\n",
       "    .dataframe tbody tr th:only-of-type {\n",
       "        vertical-align: middle;\n",
       "    }\n",
       "\n",
       "    .dataframe tbody tr th {\n",
       "        vertical-align: top;\n",
       "    }\n",
       "\n",
       "    .dataframe thead th {\n",
       "        text-align: right;\n",
       "    }\n",
       "</style>\n",
       "<table border=\"1\" class=\"dataframe\">\n",
       "  <thead>\n",
       "    <tr style=\"text-align: right;\">\n",
       "      <th></th>\n",
       "      <th>country</th>\n",
       "      <th>description</th>\n",
       "      <th>points</th>\n",
       "      <th>price</th>\n",
       "      <th>variety</th>\n",
       "      <th>winery</th>\n",
       "    </tr>\n",
       "  </thead>\n",
       "  <tbody>\n",
       "    <tr>\n",
       "      <th>0</th>\n",
       "      <td>Italy</td>\n",
       "      <td>Aromas include tropical fruit, broom, brimston...</td>\n",
       "      <td>87</td>\n",
       "      <td>NaN</td>\n",
       "      <td>White Blend</td>\n",
       "      <td>Nicosia</td>\n",
       "    </tr>\n",
       "    <tr>\n",
       "      <th>1</th>\n",
       "      <td>Portugal</td>\n",
       "      <td>This is ripe and fruity, a wine that is smooth...</td>\n",
       "      <td>87</td>\n",
       "      <td>15.0</td>\n",
       "      <td>Portuguese Red</td>\n",
       "      <td>Quinta dos Avidagos</td>\n",
       "    </tr>\n",
       "    <tr>\n",
       "      <th>2</th>\n",
       "      <td>US</td>\n",
       "      <td>Tart and snappy, the flavors of lime flesh and...</td>\n",
       "      <td>87</td>\n",
       "      <td>14.0</td>\n",
       "      <td>Pinot Gris</td>\n",
       "      <td>Rainstorm</td>\n",
       "    </tr>\n",
       "    <tr>\n",
       "      <th>3</th>\n",
       "      <td>US</td>\n",
       "      <td>Pineapple rind, lemon pith and orange blossom ...</td>\n",
       "      <td>87</td>\n",
       "      <td>13.0</td>\n",
       "      <td>Riesling</td>\n",
       "      <td>St. Julian</td>\n",
       "    </tr>\n",
       "    <tr>\n",
       "      <th>4</th>\n",
       "      <td>US</td>\n",
       "      <td>Much like the regular bottling from 2012, this...</td>\n",
       "      <td>87</td>\n",
       "      <td>65.0</td>\n",
       "      <td>Pinot Noir</td>\n",
       "      <td>Sweet Cheeks</td>\n",
       "    </tr>\n",
       "  </tbody>\n",
       "</table>\n",
       "</div>"
      ],
      "text/plain": [
       "    country                                        description  points  price   \n",
       "0     Italy  Aromas include tropical fruit, broom, brimston...      87    NaN  \\\n",
       "1  Portugal  This is ripe and fruity, a wine that is smooth...      87   15.0   \n",
       "2        US  Tart and snappy, the flavors of lime flesh and...      87   14.0   \n",
       "3        US  Pineapple rind, lemon pith and orange blossom ...      87   13.0   \n",
       "4        US  Much like the regular bottling from 2012, this...      87   65.0   \n",
       "\n",
       "          variety               winery  \n",
       "0     White Blend              Nicosia  \n",
       "1  Portuguese Red  Quinta dos Avidagos  \n",
       "2      Pinot Gris            Rainstorm  \n",
       "3        Riesling           St. Julian  \n",
       "4      Pinot Noir         Sweet Cheeks  "
      ]
     },
     "execution_count": 6,
     "metadata": {},
     "output_type": "execute_result"
    }
   ],
   "source": [
    "df.head()"
   ]
  },
  {
   "cell_type": "code",
   "execution_count": 7,
   "metadata": {},
   "outputs": [
    {
     "data": {
      "text/plain": [
       "<function matplotlib.pyplot.show(close=None, block=None)>"
      ]
     },
     "execution_count": 7,
     "metadata": {},
     "output_type": "execute_result"
    },
    {
     "data": {
      "image/png": "[encoded data removed]",
      "text/plain": [
       "<Figure size 640x480 with 1 Axes>"
      ]
     },
     "metadata": {},
     "output_type": "display_data"
    }
   ],
   "source": [
    "plt.hist(df.points, bins=20)\n",
    "plt.title(\"Puan Histogram Grafiği\")\n",
    "plt.xlabel(\"Puan\")\n",
    "plt.ylabel(\"N\")\n",
    "plt.show"
   ]
  },
  {
   "cell_type": "code",
   "execution_count": 8,
   "metadata": {},
   "outputs": [],
   "source": [
    "df[\"label\"] = (df.points >=90).astype(int)         #veriyi kabaca bölüyorum , binary şekilde puanı 90 veüstü olan 1 olacak yeni kolon\n",
    "df = df[[\"description\" , \"points\" , \"label\"]]      #kullanacağım veriler\n"
   ]
  },
  {
   "cell_type": "code",
   "execution_count": 9,
   "metadata": {},
   "outputs": [
    {
     "data": {
      "text/plain": [
       "(                                         description  points  label\n",
       " 0  Aromas include tropical fruit, broom, brimston...      87      0\n",
       " 1  This is ripe and fruity, a wine that is smooth...      87      0\n",
       " 2  Tart and snappy, the flavors of lime flesh and...      87      0\n",
       " 3  Pineapple rind, lemon pith and orange blossom ...      87      0\n",
       " 4  Much like the regular bottling from 2012, this...      87      0,\n",
       "                                               description  points  label\n",
       " 129966  Notes of honeysuckle and cantaloupe sweeten th...      90      1\n",
       " 129967  Citation is given as much as a decade of bottl...      90      1\n",
       " 129968  Well-drained gravel soil gives this wine its c...      90      1\n",
       " 129969  A dry style of Pinot Gris, this is crisp with ...      90      1\n",
       " 129970  Big, rich and off-dry, this is powered by inte...      90      1)"
      ]
     },
     "execution_count": 9,
     "metadata": {},
     "output_type": "execute_result"
    }
   ],
   "source": [
    "df.head() , df.tail()"
   ]
  },
  {
   "cell_type": "code",
   "execution_count": 10,
   "metadata": {},
   "outputs": [],
   "source": [
    "train , val , test = np.split(df.sample(frac=1) , [int(0.8 * len(df)) , int(0.9 * len(df))])      #Train , val test datasını paylaştırma (bu yazım daha yönet)\n",
    "                                                                                                  #train %80 (ilk bölme) , val %80-90 arası %10 , test %90-100 arası %10"
   ]
  },
  {
   "cell_type": "code",
   "execution_count": 11,
   "metadata": {},
   "outputs": [],
   "source": [
    "def df_to_dataset(dataframe, shuffle=True, batch_size=1024):\n",
    "  df = dataframe.copy()\n",
    "  labels = df.pop('label')\n",
    "  df = df[\"description\"]\n",
    "  ds = tf.data.Dataset.from_tensor_slices((df, labels))                                 #TENSORFLOW MODÜLÜNDEN ÇEKTİĞİM BİR FONKSİYON TÜM TRAİN,VAL,TEST DF LERİNİ  \n",
    "  if shuffle:                                                                           #TF.DATA.DATASET OBJESİ YAPIYOR , KARIŞTIRIP HARMANLIYOR\n",
    "    ds = ds.shuffle(buffer_size=len(dataframe))                                         #KENDİ KODUMA GÖRE DÜZENLEDİM\n",
    "  ds = ds.batch(batch_size)\n",
    "  ds = ds.prefetch(tf.data.AUTOTUNE)\n",
    "  return ds"
   ]
  },
  {
   "cell_type": "code",
   "execution_count": 12,
   "metadata": {},
   "outputs": [],
   "source": [
    "train_data = df_to_dataset(train)\n",
    "valid_data = df_to_dataset(val)                                         #FONK KULLANIP BÖLDÜĞÜM DF LERİ TF.DATA.DATASET OBJESİNE ÇEVİRDİM\n",
    "test_data = df_to_dataset(test)"
   ]
  },
  {
   "cell_type": "code",
   "execution_count": 13,
   "metadata": {},
   "outputs": [
    {
     "data": {
      "text/plain": [
       "(<tf.Tensor: shape=(1024,), dtype=string, numpy=\n",
       " array([b\"A reedy and odd-smelling wine. No matter how many times you come back to it, there's the scent of latex and a strange perfume to the nose. In the mouth, it's tannic and blocky, with saturated black cherry and a funky, unfamiliar twist. And it finishes with rubber, plastic, cotton candy and coconut notes. Can't say this does much to push Carmen\\xc3\\xa8re's status.\",\n",
       "        b'Milk chocolate, dark cherry, herb and floral notes are followed by silky smooth pit fruit flavors that linger.',\n",
       "        b'Honey, peach, citrus and dried herbs comprise the nose of this simple Pinot Grigio. In appearance, the wine is almost transparent with a touch of gold and the mouthfeel is equally light and easy. The screwcap bottle has a cute picture of a green Vespa on the label to reinforce its all-Italy, Dolce Vita appeal.',\n",
       "        ...,\n",
       "        b'Finely balanced, crisp and clean, a pure delight. The wine has a delicious swathe of fresh strawberry and pink grapefruit, in a style that is wine-y, ready for food. The final acidity is soft, but always fresh.',\n",
       "        b\"Generous and fruity in flavor and rich in texture, this is a wonderfully warm wine that's comforting to sip. It has mild tannins, a texture that seems to melt on the palate, and easy-drinking appeal.\",\n",
       "        b\"Here's a vibrant savory rosato made entirely with the native grape Negroamaro that boasts aromas and flavors of juicy sour cherry, crushed raspberry, Mediterranean herb and a saline note. A blast of orange zest and aromatic herb close the crisp refreshing finish.\"],\n",
       "       dtype=object)>,\n",
       " <tf.Tensor: shape=(1024,), dtype=int32, numpy=array([0, 1, 0, ..., 1, 1, 0])>)"
      ]
     },
     "execution_count": 13,
     "metadata": {},
     "output_type": "execute_result"
    }
   ],
   "source": [
    "list(train_data)[0]                                                     #TF DATASET OLDUĞUNDAN ÇEVİRİP İNCELENEBİLİR"
   ]
  },
  {
   "attachments": {},
   "cell_type": "markdown",
   "metadata": {},
   "source": [
    "MODEL VE EMBEDDİNG\n"
   ]
  },
  {
   "cell_type": "code",
   "execution_count": 14,
   "metadata": {},
   "outputs": [],
   "source": [
    "embedding = \"https://tfhub.dev/google/nnlm-en-dim50/2\"                  # nnlm-en-dim50 gömülü eng-num çeviri yapan hazır model\n",
    "hub_layer = hub.KerasLayer(embedding, dtype=tf.string, trainable=True)  #embedding url gönderip , dttype = str gönderip , eğitebilirliği açıyorum"
   ]
  },
  {
   "cell_type": "code",
   "execution_count": 15,
   "metadata": {},
   "outputs": [
    {
     "data": {
      "text/plain": [
       "<tf.Tensor: shape=(1024, 50), dtype=float32, numpy=\n",
       "array([[ 0.2924445 , -0.22240701,  0.13830127, ...,  0.27218175,\n",
       "        -0.21169522, -0.13623825],\n",
       "       [ 0.3590108 , -0.09464917,  0.14376253, ...,  0.0885267 ,\n",
       "        -0.26327834, -0.01396794],\n",
       "       [ 0.36770472, -0.09338002, -0.03038859, ...,  0.08976828,\n",
       "        -0.20958844,  0.09610091],\n",
       "       ...,\n",
       "       [ 0.7267641 , -0.10085777, -0.1800408 , ...,  0.01840592,\n",
       "        -0.00759446, -0.2483985 ],\n",
       "       [ 0.1963705 , -0.0210008 , -0.06296231, ..., -0.06936225,\n",
       "        -0.37901264, -0.05858324],\n",
       "       [ 0.39224294, -0.11558172,  0.01858793, ..., -0.10786718,\n",
       "        -0.25929067, -0.14797847]], dtype=float32)>"
      ]
     },
     "execution_count": 15,
     "metadata": {},
     "output_type": "execute_result"
    }
   ],
   "source": [
    "hub_layer(list(train_data)[0][0])                                       #STR kelimeler bilgisayarın işleyeceği numpy array objesi oldu\n",
    "                                                                        #sadece str geçirmek gerekiyor"
   ]
  },
  {
   "cell_type": "code",
   "execution_count": 16,
   "metadata": {},
   "outputs": [],
   "source": [
    "model = tf.keras.Sequential()                                             #Klasik Sequential modeli\n",
    "model.add(hub_layer)                                                      #İlk olarak yukarıdaki hub layer ekliyorum \n",
    "model.add(tf.keras.layers.Dense(16, activation='relu'))                   #Klasik ilk Dense katmanı\n",
    "model.add(tf.keras.layers.Dense(16, activation='relu'))                   #Klasik ikinci Dense katmanı\n",
    "model.add(tf.keras.layers.Dense(1, activation='sigmoid'))"
   ]
  },
  {
   "cell_type": "code",
   "execution_count": 17,
   "metadata": {},
   "outputs": [],
   "source": [
    "model.compile(optimizer=tf.keras.optimizers.Adam(learning_rate=0.001),\n",
    "              loss=tf.keras.losses.BinaryCrossentropy(),                    #Klasik model compile daha önceden çektim\n",
    "              metrics=['accuracy'])"
   ]
  },
  {
   "cell_type": "code",
   "execution_count": 18,
   "metadata": {},
   "outputs": [
    {
     "name": "stdout",
     "output_type": "stream",
     "text": [
      "102/102 [==============================] - 2s 10ms/step - loss: 0.6654 - accuracy: 0.6198\n"
     ]
    },
    {
     "data": {
      "text/plain": [
       "[0.6654357314109802, 0.619796872138977]"
      ]
     },
     "execution_count": 18,
     "metadata": {},
     "output_type": "execute_result"
    }
   ],
   "source": [
    "model.evaluate(train_data)                                                  #train data değerlendirme"
   ]
  },
  {
   "cell_type": "code",
   "execution_count": 19,
   "metadata": {},
   "outputs": [
    {
     "name": "stdout",
     "output_type": "stream",
     "text": [
      "13/13 [==============================] - 0s 13ms/step - loss: 0.6680 - accuracy: 0.6114\n"
     ]
    },
    {
     "data": {
      "text/plain": [
       "[0.6679756045341492, 0.6113718748092651]"
      ]
     },
     "execution_count": 19,
     "metadata": {},
     "output_type": "execute_result"
    }
   ],
   "source": [
    "model.evaluate(valid_data)                                                  #valid data değerlendirme"
   ]
  },
  {
   "cell_type": "code",
   "execution_count": 21,
   "metadata": {},
   "outputs": [
    {
     "name": "stdout",
     "output_type": "stream",
     "text": [
      "Epoch 1/10\n",
      "102/102 [==============================] - 86s 842ms/step - loss: 0.2911 - accuracy: 0.8740 - val_loss: 0.3685 - val_accuracy: 0.8334\n",
      "Epoch 2/10\n",
      "102/102 [==============================] - 89s 874ms/step - loss: 0.2739 - accuracy: 0.8835 - val_loss: 0.3761 - val_accuracy: 0.8346\n",
      "Epoch 3/10\n",
      "102/102 [==============================] - 88s 863ms/step - loss: 0.2598 - accuracy: 0.8912 - val_loss: 0.3810 - val_accuracy: 0.8332\n",
      "Epoch 4/10\n",
      "102/102 [==============================] - 89s 869ms/step - loss: 0.2484 - accuracy: 0.8959 - val_loss: 0.3888 - val_accuracy: 0.8301\n",
      "Epoch 5/10\n",
      "102/102 [==============================] - 89s 875ms/step - loss: 0.2371 - accuracy: 0.9012 - val_loss: 0.3957 - val_accuracy: 0.8303\n",
      "Epoch 6/10\n",
      "102/102 [==============================] - 90s 886ms/step - loss: 0.2265 - accuracy: 0.9074 - val_loss: 0.4069 - val_accuracy: 0.8300\n",
      "Epoch 7/10\n",
      "102/102 [==============================] - 90s 882ms/step - loss: 0.2162 - accuracy: 0.9115 - val_loss: 0.4186 - val_accuracy: 0.8282\n",
      "Epoch 8/10\n",
      "102/102 [==============================] - 78s 765ms/step - loss: 0.2058 - accuracy: 0.9168 - val_loss: 0.4289 - val_accuracy: 0.8277\n",
      "Epoch 9/10\n",
      "102/102 [==============================] - 73s 714ms/step - loss: 0.1955 - accuracy: 0.9224 - val_loss: 0.4430 - val_accuracy: 0.8268\n",
      "Epoch 10/10\n",
      "102/102 [==============================] - 72s 709ms/step - loss: 0.1857 - accuracy: 0.9271 - val_loss: 0.4609 - val_accuracy: 0.8265\n"
     ]
    }
   ],
   "source": [
    "history = model.fit(train_data, epochs=10, validation_data=valid_data)      #eğitim"
   ]
  },
  {
   "attachments": {},
   "cell_type": "markdown",
   "metadata": {},
   "source": [
    "                                            VAL_LOSS VE VAL_ACCURACY bakarsak OVERFİTTİNG vardır tarin datayı çok iyi anlıyo fakat genelleme kötüye gidiyor"
   ]
  },
  {
   "cell_type": "code",
   "execution_count": 23,
   "metadata": {},
   "outputs": [
    {
     "data": {
      "image/png": "[encoded data removed]",
      "text/plain": [
       "<Figure size 640x480 with 1 Axes>"
      ]
     },
     "metadata": {},
     "output_type": "display_data"
    }
   ],
   "source": [
    "\n",
    "plt.plot(history.history['accuracy'],label=\"Training Acc\")\n",
    "plt.plot(history.history['val_accuracy'],label=\"Validation Acc\")\n",
    "plt.title(\"Model Doğruluğu\")\n",
    "plt.ylabel(\"Accuracy\")\n",
    "plt.xlabel(\"Epoch\")\n",
    "plt.legend()\n",
    "plt.show()\n"
   ]
  },
  {
   "cell_type": "code",
   "execution_count": 24,
   "metadata": {},
   "outputs": [
    {
     "data": {
      "image/png": "[encoded data removed]",
      "text/plain": [
       "<Figure size 640x480 with 1 Axes>"
      ]
     },
     "metadata": {},
     "output_type": "display_data"
    }
   ],
   "source": [
    "plt.plot(history.history['loss'],label=\"Training Loss\")\n",
    "plt.plot(history.history['val_loss'],label=\"Validation Loss\")\n",
    "plt.title(\"Model Kaybı\")\n",
    "plt.ylabel(\"Loss\")\n",
    "plt.xlabel(\"Epoch\")\n",
    "plt.legend()\n",
    "plt.show()\n"
   ]
  },
  {
   "attachments": {},
   "cell_type": "markdown",
   "metadata": {},
   "source": [
    "Çok Fazla eğitim yaptığımdan model genelleyemiyor yeni modelde ayarlar değişik olucak"
   ]
  },
  {
   "cell_type": "code",
   "execution_count": 25,
   "metadata": {},
   "outputs": [],
   "source": [
    "model2 = tf.keras.Sequential()\n",
    "model2.add(hub_layer)\n",
    "model2.add(tf.keras.layers.Dense(16, activation='relu'))\n",
    "model2.add(tf.keras.layers.Dropout(0.4))                        #Dropout eklemesi overfitting önüne geçmek için yanış data besleyen ara katman gibi\n",
    "model2.add(tf.keras.layers.Dense(16, activation='relu'))\n",
    "model2.add(tf.keras.layers.Dropout(0.4))\n",
    "model2.add(tf.keras.layers.Dense(1, activation='sigmoid'))"
   ]
  },
  {
   "cell_type": "code",
   "execution_count": 27,
   "metadata": {},
   "outputs": [],
   "source": [
    "model2.compile(optimizer=tf.keras.optimizers.Adam(learning_rate=0.001),\n",
    "              loss=tf.keras.losses.BinaryCrossentropy(),                    #Klasik model compile yukarıdan çektim\n",
    "              metrics=['accuracy'])"
   ]
  },
  {
   "cell_type": "code",
   "execution_count": 28,
   "metadata": {},
   "outputs": [
    {
     "name": "stdout",
     "output_type": "stream",
     "text": [
      "102/102 [==============================] - 9s 86ms/step - loss: 0.6917 - accuracy: 0.4978\n"
     ]
    },
    {
     "data": {
      "text/plain": [
       "[0.6917413473129272, 0.497816801071167]"
      ]
     },
     "execution_count": 28,
     "metadata": {},
     "output_type": "execute_result"
    }
   ],
   "source": [
    "model2.evaluate(train_data)                                                  #train data değerlendirme"
   ]
  },
  {
   "cell_type": "code",
   "execution_count": 30,
   "metadata": {},
   "outputs": [
    {
     "name": "stdout",
     "output_type": "stream",
     "text": [
      "13/13 [==============================] - 1s 84ms/step - loss: 0.6920 - accuracy: 0.4914\n"
     ]
    },
    {
     "data": {
      "text/plain": [
       "[0.6919736266136169, 0.491421103477478]"
      ]
     },
     "execution_count": 30,
     "metadata": {},
     "output_type": "execute_result"
    }
   ],
   "source": [
    "model2.evaluate(valid_data)                                                  #valid data değerlendirme"
   ]
  },
  {
   "cell_type": "code",
   "execution_count": 31,
   "metadata": {},
   "outputs": [
    {
     "name": "stdout",
     "output_type": "stream",
     "text": [
      "Epoch 1/5\n",
      "102/102 [==============================] - 72s 698ms/step - loss: 0.5496 - accuracy: 0.7326 - val_loss: 0.3998 - val_accuracy: 0.8227\n",
      "Epoch 2/5\n",
      "102/102 [==============================] - 74s 729ms/step - loss: 0.3555 - accuracy: 0.8537 - val_loss: 0.3861 - val_accuracy: 0.8277\n",
      "Epoch 3/5\n",
      "102/102 [==============================] - 72s 705ms/step - loss: 0.3108 - accuracy: 0.8751 - val_loss: 0.3942 - val_accuracy: 0.8283\n",
      "Epoch 4/5\n",
      "102/102 [==============================] - 72s 706ms/step - loss: 0.2926 - accuracy: 0.8836 - val_loss: 0.4093 - val_accuracy: 0.8261\n",
      "Epoch 5/5\n",
      "102/102 [==============================] - 73s 715ms/step - loss: 0.2761 - accuracy: 0.8908 - val_loss: 0.4266 - val_accuracy: 0.8262\n"
     ]
    }
   ],
   "source": [
    "history = model2.fit(train_data, epochs=5, validation_data=valid_data)      #Yeni eğitim epochs düşürdüm ve modele dropout eklemiştim overfitting önüne geçmek için"
   ]
  },
  {
   "attachments": {},
   "cell_type": "markdown",
   "metadata": {},
   "source": [
    "                                        VAL_LOSS ve VAL_ACCURACY değer şaşmaları nispeten azaldı\n",
    "                                        Bu model öncekinden daha iyi genelleme yapabilen bir model olmuştur"
   ]
  },
  {
   "cell_type": "code",
   "execution_count": 32,
   "metadata": {},
   "outputs": [
    {
     "name": "stdout",
     "output_type": "stream",
     "text": [
      "13/13 [==============================] - 1s 80ms/step - loss: 0.4357 - accuracy: 0.8227\n"
     ]
    },
    {
     "data": {
      "text/plain": [
       "[0.4357354938983917, 0.8226650357246399]"
      ]
     },
     "execution_count": 32,
     "metadata": {},
     "output_type": "execute_result"
    }
   ],
   "source": [
    "model2.evaluate(test_data)                              #modelin son değerlendirmesi için "
   ]
  },
  {
   "attachments": {},
   "cell_type": "markdown",
   "metadata": {},
   "source": [
    "                                                Model üzerinde daha fazla hakimiyet sağlayan LSTM diye bir yöntem buldum onu deneyeceğim\n",
    "LSTM"
   ]
  },
  {
   "cell_type": "code",
   "execution_count": 33,
   "metadata": {},
   "outputs": [],
   "source": [
    "encoder = tf.keras.layers.TextVectorization(max_tokens=2000)                  #Encoder oluşturarak başlıyorum\n",
    "encoder.adapt(train_data.map(lambda text, label: text))                       #Train datada hem text hem data var sadece text kullacağımdan lambda fonk ile çevirdim , Label olmasa da olur"
   ]
  },
  {
   "cell_type": "code",
   "execution_count": 34,
   "metadata": {},
   "outputs": [
    {
     "data": {
      "text/plain": [
       "array(['', '[UNK]', 'and', 'the', 'a', 'of', 'with', 'this', 'is', 'wine',\n",
       "       'flavors', 'in', 'it', 'to', 'its', 'on', 'fruit', 'aromas',\n",
       "       'palate', 'that'], dtype='<U17')"
      ]
     },
     "execution_count": 34,
     "metadata": {},
     "output_type": "execute_result"
    }
   ],
   "source": [
    "vocab = np.array(encoder.get_vocabulary())                                      # encoderda encodlanan kelimeleri değişkene atama\n",
    "vocab[:20]                                                                      #ilk 20 kelimeyi gösterme"
   ]
  },
  {
   "cell_type": "code",
   "execution_count": 42,
   "metadata": {},
   "outputs": [],
   "source": [
    "                                    #Şimdi tekrar model Oluşturma\n",
    "model = tf.keras.Sequential([\n",
    "    encoder,                                                #İlk Encoder geçiriyorum , texti vektörleştirecek olan budur\n",
    "    tf.keras.layers.Embedding(                              #Encoder vektörleşen text için embedding lazım \n",
    "        input_dim=len(encoder.get_vocabulary()),            #Tüm vocabulary uzunluğunu girişe verdik\n",
    "        output_dim=32,                                      #çıkışta LSTM miktarı\n",
    "        mask_zero=True                                      #değişken uzunluğunu ayarlama için bu yapılmalıymış\n",
    "                                                            #encoder ile embeding bu ikisi bir cümleyi sayı vektörüne dönüştürüp işlememi sağlayacak\n",
    "    ),\n",
    "    tf.keras.layers.LSTM(32),                               #LSTM katmanı 32 geçmiştim\n",
    "    tf.keras.layers.Dense(32, activation='relu'),           #Dense Katmanı\n",
    "    tf.keras.layers.Dropout(0.4),                           #Dropout ekliyorum overtrainig olabiliyor bu datada\n",
    "    tf.keras.layers.Dense(1, activation='sigmoid')          #Çıkış Dense Katmanında activation sigmoid \n",
    "\n",
    "])"
   ]
  },
  {
   "cell_type": "code",
   "execution_count": 43,
   "metadata": {},
   "outputs": [],
   "source": [
    "model.compile(optimizer=tf.keras.optimizers.Adam(learning_rate=0.001),\n",
    "              loss=tf.keras.losses.BinaryCrossentropy(),                    #Klasik model compile yukarıdan çektim\n",
    "              metrics=['accuracy'])"
   ]
  },
  {
   "cell_type": "code",
   "execution_count": 44,
   "metadata": {},
   "outputs": [
    {
     "name": "stdout",
     "output_type": "stream",
     "text": [
      "102/102 [==============================] - 14s 111ms/step - loss: 0.6940 - accuracy: 0.3997\n",
      "13/13 [==============================] - 2s 120ms/step - loss: 0.6939 - accuracy: 0.4060\n"
     ]
    },
    {
     "data": {
      "text/plain": [
       "[0.6938971877098083, 0.4060167670249939]"
      ]
     },
     "execution_count": 44,
     "metadata": {},
     "output_type": "execute_result"
    }
   ],
   "source": [
    "model.evaluate(train_data)\n",
    "model.evaluate(valid_data)                                  #Model değerlendirmesi"
   ]
  },
  {
   "attachments": {},
   "cell_type": "markdown",
   "metadata": {},
   "source": [
    "            Model değerlendirmesi pek hoş değil ama bi eğitmeli"
   ]
  },
  {
   "cell_type": "code",
   "execution_count": 45,
   "metadata": {},
   "outputs": [
    {
     "name": "stdout",
     "output_type": "stream",
     "text": [
      "Epoch 1/5\n",
      "102/102 [==============================] - 38s 326ms/step - loss: 0.5400 - accuracy: 0.7175 - val_loss: 0.3776 - val_accuracy: 0.8278\n",
      "Epoch 2/5\n",
      "102/102 [==============================] - 34s 332ms/step - loss: 0.3703 - accuracy: 0.8367 - val_loss: 0.3668 - val_accuracy: 0.8308\n",
      "Epoch 3/5\n",
      "102/102 [==============================] - 33s 323ms/step - loss: 0.3503 - accuracy: 0.8455 - val_loss: 0.3518 - val_accuracy: 0.8356\n",
      "Epoch 4/5\n",
      "102/102 [==============================] - 30s 296ms/step - loss: 0.3436 - accuracy: 0.8485 - val_loss: 0.3476 - val_accuracy: 0.8411\n",
      "Epoch 5/5\n",
      "102/102 [==============================] - 31s 298ms/step - loss: 0.3373 - accuracy: 0.8505 - val_loss: 0.3523 - val_accuracy: 0.8420\n"
     ]
    }
   ],
   "source": [
    "history2 = model.fit(train_data , epochs=5 , validation_data=valid_data)        #yukarıdaki eğitimin benzeri epochs=5 daha iyi sonuç vermişti"
   ]
  },
  {
   "attachments": {},
   "cell_type": "markdown",
   "metadata": {},
   "source": [
    "                                            Model gidişatı tam ayar oldu"
   ]
  },
  {
   "cell_type": "code",
   "execution_count": 46,
   "metadata": {},
   "outputs": [
    {
     "name": "stdout",
     "output_type": "stream",
     "text": [
      "13/13 [==============================] - 1s 112ms/step - loss: 0.3583 - accuracy: 0.8385\n"
     ]
    },
    {
     "data": {
      "text/plain": [
       "[0.3582839071750641, 0.8385136127471924]"
      ]
     },
     "execution_count": 46,
     "metadata": {},
     "output_type": "execute_result"
    }
   ],
   "source": [
    "model.evaluate(test_data)"
   ]
  },
  {
   "attachments": {},
   "cell_type": "markdown",
   "metadata": {},
   "source": [
    "                                            Değerlendirmesi de başarılı"
   ]
  }
 ],
 "metadata": {
  "kernelspec": {
   "display_name": "Python 3",
   "language": "python",
   "name": "python3"
  },
  "language_info": {
   "codemirror_mode": {
    "name": "ipython",
    "version": 3
   },
   "file_extension": ".py",
   "mimetype": "text/x-python",
   "name": "python",
   "nbconvert_exporter": "python",
   "pygments_lexer": "ipython3",
   "version": "3.9.13"
  },
  "orig_nbformat": 4
 },
 "nbformat": 4,
 "nbformat_minor": 2
}
